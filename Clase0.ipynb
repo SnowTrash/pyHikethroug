# pip install keyboard

import time
import queue
import random
import logging
import threading

import keyboard
import sys

logging.basicConfig(level=logging.DEBUG, format='%(threadName)s: %(message)s',)

queue = queue.Queue(maxsize=20)

def dormirProductor():
  time_to_sleep = random.randint(1, 5)
  logging.info(f'El productor duerme {time_to_sleep} segundos')
  time.sleep(time_to_sleep)

def dormirConsumidor():
  time_to_sleep = random.randint(1, 5)
  logging.info(f'El Consumidor duerme {time_to_sleep} segundos')
  time.sleep(time_to_sleep)

def producer():
    while True:
        if not queue.full():
            item = random.randint(1, 20)
            if item < 6:
                objeto = "Hola"
            elif item < 15:
                objeto = 5
            elif item<21:
                objeto = [1,"Pablito clavounclavito","F"]
      
            queue.put(objeto)
            logging.info(f'Nuevo elemento Producido: {objeto} en el espacio {item}')
            dormirProductor()

def consumer():
    while True:
        break
        if not queue.empty():
            objeto = queue.get()
            queue.task_done()
            logging.info(f'Nuevo elemento CONSUMIDO: {objeto}')
            dormirConsumidor()
            

if __name__ == '__main__':

  for x in range(20):
    thread_producer = threading.Thread(target=producer)
    thread_consumer = threading.Thread(target=consumer)
    thread_producer.start()
    thread_consumer.start()


      


