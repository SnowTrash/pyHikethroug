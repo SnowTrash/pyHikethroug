{
  "cells": [
    {
      "cell_type": "markdown",
      "metadata": {
        "id": "view-in-github",
        "colab_type": "text"
      },
      "source": [
        "<a href=\"https://colab.research.google.com/github/SnowTrash/pyHikethroug/blob/main/I5912A_9.ipynb\" target=\"_parent\"><img src=\"https://colab.research.google.com/assets/colab-badge.svg\" alt=\"Open In Colab\"/></a>"
      ]
    },
    {
      "cell_type": "markdown",
      "source": [
        "# Instalando librerias"
      ],
      "metadata": {
        "pycharm": {
          "name": "#%% md\n"
        },
        "id": "BjzfbztflzZQ"
      }
    },
    {
      "cell_type": "code",
      "source": [
        "#Librerias wonitas\n",
        "%matplotlib inline\n",
        "import sys\n",
        "import pandas as pd\n",
        "import csv\n",
        "import matplotlib.pyplot as plt\n",
        "from datetime import datetime\n",
        "import numpy as np\n",
        "from pandas.core.arrays.sparse import array\n",
        "print(sys.version)\n"
      ],
      "metadata": {
        "colab": {
          "base_uri": "https://localhost:8080/"
        },
        "id": "NDStkP8Mh1jc",
        "outputId": "468fd877-ec24-4300-c3d7-c3025b0963fe"
      },
      "execution_count": null,
      "outputs": [
        {
          "output_type": "stream",
          "name": "stdout",
          "text": [
            "3.7.14 (default, Sep  8 2022, 00:06:44) \n",
            "[GCC 7.5.0]\n"
          ]
        }
      ]
    },
    {
      "cell_type": "markdown",
      "source": [
        "# Añadiendo el Dataset"
      ],
      "metadata": {
        "id": "TZmOJQCafRYT",
        "pycharm": {
          "name": "#%% md\n"
        }
      }
    },
    {
      "cell_type": "markdown",
      "source": [
        "> # Desde Drive"
      ],
      "metadata": {
        "pycharm": {
          "name": "#%% md\n"
        },
        "id": "IfQZ6FwohrwC"
      }
    },
    {
      "cell_type": "code",
      "source": [
        "from google.colab import drive\n",
        "drive.mount('/content/drive/')\n"
      ],
      "metadata": {
        "colab": {
          "base_uri": "https://localhost:8080/"
        },
        "id": "RzIuDUWoycPW",
        "outputId": "05eaca72-5b17-48ee-9c67-9a46f6cdea3b"
      },
      "execution_count": null,
      "outputs": [
        {
          "output_type": "stream",
          "name": "stdout",
          "text": [
            "Mounted at /content/drive/\n"
          ]
        }
      ]
    },
    {
      "cell_type": "code",
      "source": [
        "local_path = '/content/drive/MyDrive/Clasificacion Inteligente de datos - I5912/src/A9_dataset.csv'\n",
        "fh = open(local_path)\n",
        "csv_reader = csv.reader(fh)\n",
        "fh.close()"
      ],
      "metadata": {
        "id": "sZOS7QXDh0l7"
      },
      "execution_count": null,
      "outputs": []
    },
    {
      "cell_type": "code",
      "source": [
        "df = pd.read_csv(local_path,header=None)\n",
        "df"
      ],
      "metadata": {
        "colab": {
          "base_uri": "https://localhost:8080/",
          "height": 554
        },
        "id": "T0wZ6nCfh_KJ",
        "outputId": "de27c64d-f1cd-418c-d023-403f06f52a18"
      },
      "execution_count": null,
      "outputs": [
        {
          "output_type": "execute_result",
          "data": {
            "text/plain": [
              "               0             1  \\\n",
              "0     Mobiliario  Mobiliario.1   \n",
              "1     Mobiliario    Mobiliario   \n",
              "2         Equipo        Equipo   \n",
              "3     Mobiliario    Mobiliario   \n",
              "4     Transporte    Transporte   \n",
              "...          ...           ...   \n",
              "9995      Equipo        Equipo   \n",
              "9996      Equipo        Equipo   \n",
              "9997      Equipo        Equipo   \n",
              "9998      Equipo        Equipo   \n",
              "9999  Mobiliario    Mobiliario   \n",
              "\n",
              "                                                      2           3  \\\n",
              "0     SILLON EJECUTIVO RESPALDO MEDIO COLOR NEGRO. N...  Unnamed: 3   \n",
              "1       PINTARRON 60X90 (ALTA 20 ENE 1999 MARCA ALFRA).         NaN   \n",
              "2     MONITOR DE COLOR HP DE 15\", N.D. 017/2002 ALTA...         NaN   \n",
              "3     CESTO DE BASURA ALUMINIO N.D. 007/2005, ALTA 3...         NaN   \n",
              "4     AUTOMOVIL FORD ESCORT 1998, PLACAS: HZG1129, N...         NaN   \n",
              "...                                                 ...         ...   \n",
              "9995  COMPUTADORA SEGÚN FACTURA 729 DE VICENTE DE LA...         NaN   \n",
              "9996  PINTARRON MARCA ALFRA COLOR BLANCO MODELO 4840...         NaN   \n",
              "9997  REGULADOR DE VOLTAJE INDUSTRONIC, 15KVA, COLOR...         NaN   \n",
              "9998  TP- LINK 1000BASE-LX SFP OPTIC SMF MINI GBIC M...         NaN   \n",
              "9999           Mueble con gabinetes, cajones y puertas.         NaN   \n",
              "\n",
              "               4           5           6           7  \n",
              "0     Unnamed: 4  Unnamed: 5  Unnamed: 6  Unnamed: 7  \n",
              "1            NaN         NaN         NaN         NaN  \n",
              "2            NaN         NaN         NaN         NaN  \n",
              "3            NaN         NaN         NaN         NaN  \n",
              "4            NaN         NaN         NaN         NaN  \n",
              "...          ...         ...         ...         ...  \n",
              "9995         NaN         NaN         NaN         NaN  \n",
              "9996         NaN         NaN         NaN         NaN  \n",
              "9997         NaN         NaN         NaN         NaN  \n",
              "9998         NaN         NaN         NaN         NaN  \n",
              "9999         NaN         NaN         NaN         NaN  \n",
              "\n",
              "[10000 rows x 8 columns]"
            ],
            "text/html": [
              "\n",
              "  <div id=\"df-f16a17d1-e354-40ae-bea9-3295542a302c\">\n",
              "    <div class=\"colab-df-container\">\n",
              "      <div>\n",
              "<style scoped>\n",
              "    .dataframe tbody tr th:only-of-type {\n",
              "        vertical-align: middle;\n",
              "    }\n",
              "\n",
              "    .dataframe tbody tr th {\n",
              "        vertical-align: top;\n",
              "    }\n",
              "\n",
              "    .dataframe thead th {\n",
              "        text-align: right;\n",
              "    }\n",
              "</style>\n",
              "<table border=\"1\" class=\"dataframe\">\n",
              "  <thead>\n",
              "    <tr style=\"text-align: right;\">\n",
              "      <th></th>\n",
              "      <th>0</th>\n",
              "      <th>1</th>\n",
              "      <th>2</th>\n",
              "      <th>3</th>\n",
              "      <th>4</th>\n",
              "      <th>5</th>\n",
              "      <th>6</th>\n",
              "      <th>7</th>\n",
              "    </tr>\n",
              "  </thead>\n",
              "  <tbody>\n",
              "    <tr>\n",
              "      <th>0</th>\n",
              "      <td>Mobiliario</td>\n",
              "      <td>Mobiliario.1</td>\n",
              "      <td>SILLON EJECUTIVO RESPALDO MEDIO COLOR NEGRO. N...</td>\n",
              "      <td>Unnamed: 3</td>\n",
              "      <td>Unnamed: 4</td>\n",
              "      <td>Unnamed: 5</td>\n",
              "      <td>Unnamed: 6</td>\n",
              "      <td>Unnamed: 7</td>\n",
              "    </tr>\n",
              "    <tr>\n",
              "      <th>1</th>\n",
              "      <td>Mobiliario</td>\n",
              "      <td>Mobiliario</td>\n",
              "      <td>PINTARRON 60X90 (ALTA 20 ENE 1999 MARCA ALFRA).</td>\n",
              "      <td>NaN</td>\n",
              "      <td>NaN</td>\n",
              "      <td>NaN</td>\n",
              "      <td>NaN</td>\n",
              "      <td>NaN</td>\n",
              "    </tr>\n",
              "    <tr>\n",
              "      <th>2</th>\n",
              "      <td>Equipo</td>\n",
              "      <td>Equipo</td>\n",
              "      <td>MONITOR DE COLOR HP DE 15\", N.D. 017/2002 ALTA...</td>\n",
              "      <td>NaN</td>\n",
              "      <td>NaN</td>\n",
              "      <td>NaN</td>\n",
              "      <td>NaN</td>\n",
              "      <td>NaN</td>\n",
              "    </tr>\n",
              "    <tr>\n",
              "      <th>3</th>\n",
              "      <td>Mobiliario</td>\n",
              "      <td>Mobiliario</td>\n",
              "      <td>CESTO DE BASURA ALUMINIO N.D. 007/2005, ALTA 3...</td>\n",
              "      <td>NaN</td>\n",
              "      <td>NaN</td>\n",
              "      <td>NaN</td>\n",
              "      <td>NaN</td>\n",
              "      <td>NaN</td>\n",
              "    </tr>\n",
              "    <tr>\n",
              "      <th>4</th>\n",
              "      <td>Transporte</td>\n",
              "      <td>Transporte</td>\n",
              "      <td>AUTOMOVIL FORD ESCORT 1998, PLACAS: HZG1129, N...</td>\n",
              "      <td>NaN</td>\n",
              "      <td>NaN</td>\n",
              "      <td>NaN</td>\n",
              "      <td>NaN</td>\n",
              "      <td>NaN</td>\n",
              "    </tr>\n",
              "    <tr>\n",
              "      <th>...</th>\n",
              "      <td>...</td>\n",
              "      <td>...</td>\n",
              "      <td>...</td>\n",
              "      <td>...</td>\n",
              "      <td>...</td>\n",
              "      <td>...</td>\n",
              "      <td>...</td>\n",
              "      <td>...</td>\n",
              "    </tr>\n",
              "    <tr>\n",
              "      <th>9995</th>\n",
              "      <td>Equipo</td>\n",
              "      <td>Equipo</td>\n",
              "      <td>COMPUTADORA SEGÚN FACTURA 729 DE VICENTE DE LA...</td>\n",
              "      <td>NaN</td>\n",
              "      <td>NaN</td>\n",
              "      <td>NaN</td>\n",
              "      <td>NaN</td>\n",
              "      <td>NaN</td>\n",
              "    </tr>\n",
              "    <tr>\n",
              "      <th>9996</th>\n",
              "      <td>Equipo</td>\n",
              "      <td>Equipo</td>\n",
              "      <td>PINTARRON MARCA ALFRA COLOR BLANCO MODELO 4840...</td>\n",
              "      <td>NaN</td>\n",
              "      <td>NaN</td>\n",
              "      <td>NaN</td>\n",
              "      <td>NaN</td>\n",
              "      <td>NaN</td>\n",
              "    </tr>\n",
              "    <tr>\n",
              "      <th>9997</th>\n",
              "      <td>Equipo</td>\n",
              "      <td>Equipo</td>\n",
              "      <td>REGULADOR DE VOLTAJE INDUSTRONIC, 15KVA, COLOR...</td>\n",
              "      <td>NaN</td>\n",
              "      <td>NaN</td>\n",
              "      <td>NaN</td>\n",
              "      <td>NaN</td>\n",
              "      <td>NaN</td>\n",
              "    </tr>\n",
              "    <tr>\n",
              "      <th>9998</th>\n",
              "      <td>Equipo</td>\n",
              "      <td>Equipo</td>\n",
              "      <td>TP- LINK 1000BASE-LX SFP OPTIC SMF MINI GBIC M...</td>\n",
              "      <td>NaN</td>\n",
              "      <td>NaN</td>\n",
              "      <td>NaN</td>\n",
              "      <td>NaN</td>\n",
              "      <td>NaN</td>\n",
              "    </tr>\n",
              "    <tr>\n",
              "      <th>9999</th>\n",
              "      <td>Mobiliario</td>\n",
              "      <td>Mobiliario</td>\n",
              "      <td>Mueble con gabinetes, cajones y puertas.</td>\n",
              "      <td>NaN</td>\n",
              "      <td>NaN</td>\n",
              "      <td>NaN</td>\n",
              "      <td>NaN</td>\n",
              "      <td>NaN</td>\n",
              "    </tr>\n",
              "  </tbody>\n",
              "</table>\n",
              "<p>10000 rows × 8 columns</p>\n",
              "</div>\n",
              "      <button class=\"colab-df-convert\" onclick=\"convertToInteractive('df-f16a17d1-e354-40ae-bea9-3295542a302c')\"\n",
              "              title=\"Convert this dataframe to an interactive table.\"\n",
              "              style=\"display:none;\">\n",
              "        \n",
              "  <svg xmlns=\"http://www.w3.org/2000/svg\" height=\"24px\"viewBox=\"0 0 24 24\"\n",
              "       width=\"24px\">\n",
              "    <path d=\"M0 0h24v24H0V0z\" fill=\"none\"/>\n",
              "    <path d=\"M18.56 5.44l.94 2.06.94-2.06 2.06-.94-2.06-.94-.94-2.06-.94 2.06-2.06.94zm-11 1L8.5 8.5l.94-2.06 2.06-.94-2.06-.94L8.5 2.5l-.94 2.06-2.06.94zm10 10l.94 2.06.94-2.06 2.06-.94-2.06-.94-.94-2.06-.94 2.06-2.06.94z\"/><path d=\"M17.41 7.96l-1.37-1.37c-.4-.4-.92-.59-1.43-.59-.52 0-1.04.2-1.43.59L10.3 9.45l-7.72 7.72c-.78.78-.78 2.05 0 2.83L4 21.41c.39.39.9.59 1.41.59.51 0 1.02-.2 1.41-.59l7.78-7.78 2.81-2.81c.8-.78.8-2.07 0-2.86zM5.41 20L4 18.59l7.72-7.72 1.47 1.35L5.41 20z\"/>\n",
              "  </svg>\n",
              "      </button>\n",
              "      \n",
              "  <style>\n",
              "    .colab-df-container {\n",
              "      display:flex;\n",
              "      flex-wrap:wrap;\n",
              "      gap: 12px;\n",
              "    }\n",
              "\n",
              "    .colab-df-convert {\n",
              "      background-color: #E8F0FE;\n",
              "      border: none;\n",
              "      border-radius: 50%;\n",
              "      cursor: pointer;\n",
              "      display: none;\n",
              "      fill: #1967D2;\n",
              "      height: 32px;\n",
              "      padding: 0 0 0 0;\n",
              "      width: 32px;\n",
              "    }\n",
              "\n",
              "    .colab-df-convert:hover {\n",
              "      background-color: #E2EBFA;\n",
              "      box-shadow: 0px 1px 2px rgba(60, 64, 67, 0.3), 0px 1px 3px 1px rgba(60, 64, 67, 0.15);\n",
              "      fill: #174EA6;\n",
              "    }\n",
              "\n",
              "    [theme=dark] .colab-df-convert {\n",
              "      background-color: #3B4455;\n",
              "      fill: #D2E3FC;\n",
              "    }\n",
              "\n",
              "    [theme=dark] .colab-df-convert:hover {\n",
              "      background-color: #434B5C;\n",
              "      box-shadow: 0px 1px 3px 1px rgba(0, 0, 0, 0.15);\n",
              "      filter: drop-shadow(0px 1px 2px rgba(0, 0, 0, 0.3));\n",
              "      fill: #FFFFFF;\n",
              "    }\n",
              "  </style>\n",
              "\n",
              "      <script>\n",
              "        const buttonEl =\n",
              "          document.querySelector('#df-f16a17d1-e354-40ae-bea9-3295542a302c button.colab-df-convert');\n",
              "        buttonEl.style.display =\n",
              "          google.colab.kernel.accessAllowed ? 'block' : 'none';\n",
              "\n",
              "        async function convertToInteractive(key) {\n",
              "          const element = document.querySelector('#df-f16a17d1-e354-40ae-bea9-3295542a302c');\n",
              "          const dataTable =\n",
              "            await google.colab.kernel.invokeFunction('convertToInteractive',\n",
              "                                                     [key], {});\n",
              "          if (!dataTable) return;\n",
              "\n",
              "          const docLinkHtml = 'Like what you see? Visit the ' +\n",
              "            '<a target=\"_blank\" href=https://colab.research.google.com/notebooks/data_table.ipynb>data table notebook</a>'\n",
              "            + ' to learn more about interactive tables.';\n",
              "          element.innerHTML = '';\n",
              "          dataTable['output_type'] = 'display_data';\n",
              "          await google.colab.output.renderOutput(dataTable, element);\n",
              "          const docLink = document.createElement('div');\n",
              "          docLink.innerHTML = docLinkHtml;\n",
              "          element.appendChild(docLink);\n",
              "        }\n",
              "      </script>\n",
              "    </div>\n",
              "  </div>\n",
              "  "
            ]
          },
          "metadata": {},
          "execution_count": 5
        }
      ]
    },
    {
      "cell_type": "markdown",
      "source": [
        "> # Local"
      ],
      "metadata": {
        "pycharm": {
          "name": "#%% md\n"
        },
        "id": "lrWcSuNShr72"
      }
    },
    {
      "cell_type": "code",
      "execution_count": null,
      "metadata": {
        "id": "3VQqVi-3ScBC",
        "pycharm": {
          "name": "#%%\n"
        }
      },
      "outputs": [],
      "source": [
        "#import pandas as pd\n",
        "#import numpy as np\n",
        "#import matplotlib.pyplot as plt\n",
        "\n",
        "#Con estas 2 lineas creamos el archivo .csv de un .xlsx\n",
        "\n",
        "#read_file = pd.read_excel (r'src/A9_dataset.xlsx')\n",
        "#read_file.to_csv (r'src/A9_dataset.csv', index = None, header=True)\n",
        "\n",
        "#df = pd.read_csv('src/A9_dataset.csv', header=None)\n",
        "#print(len(df))"
      ]
    },
    {
      "cell_type": "markdown",
      "source": [
        "# Primer contacto"
      ],
      "metadata": {
        "pycharm": {
          "name": "#%% md\n"
        },
        "id": "cbtnUZOCmL22"
      }
    },
    {
      "cell_type": "code",
      "source": [
        "df.info()"
      ],
      "metadata": {
        "colab": {
          "base_uri": "https://localhost:8080/"
        },
        "id": "g-gEvIynivLO",
        "outputId": "e8f2061d-e0b3-4da9-9471-b82a1a8c62c1"
      },
      "execution_count": null,
      "outputs": [
        {
          "output_type": "stream",
          "name": "stdout",
          "text": [
            "<class 'pandas.core.frame.DataFrame'>\n",
            "RangeIndex: 10000 entries, 0 to 9999\n",
            "Data columns (total 8 columns):\n",
            " #   Column  Non-Null Count  Dtype \n",
            "---  ------  --------------  ----- \n",
            " 0   0       9997 non-null   object\n",
            " 1   1       9997 non-null   object\n",
            " 2   2       9993 non-null   object\n",
            " 3   3       43 non-null     object\n",
            " 4   4       29 non-null     object\n",
            " 5   5       12 non-null     object\n",
            " 6   6       7 non-null      object\n",
            " 7   7       4 non-null      object\n",
            "dtypes: object(8)\n",
            "memory usage: 625.1+ KB\n"
          ]
        }
      ]
    },
    {
      "cell_type": "code",
      "source": [
        "df.head()"
      ],
      "metadata": {
        "colab": {
          "base_uri": "https://localhost:8080/",
          "height": 268
        },
        "id": "BRHqcdXGiu-O",
        "outputId": "f4df0030-ac3c-4c4e-f11d-e3aed5e52311"
      },
      "execution_count": null,
      "outputs": [
        {
          "output_type": "execute_result",
          "data": {
            "text/plain": [
              "            0             1  \\\n",
              "0  Mobiliario  Mobiliario.1   \n",
              "1  Mobiliario    Mobiliario   \n",
              "2      Equipo        Equipo   \n",
              "3  Mobiliario    Mobiliario   \n",
              "4  Transporte    Transporte   \n",
              "\n",
              "                                                   2           3           4  \\\n",
              "0  SILLON EJECUTIVO RESPALDO MEDIO COLOR NEGRO. N...  Unnamed: 3  Unnamed: 4   \n",
              "1    PINTARRON 60X90 (ALTA 20 ENE 1999 MARCA ALFRA).         NaN         NaN   \n",
              "2  MONITOR DE COLOR HP DE 15\", N.D. 017/2002 ALTA...         NaN         NaN   \n",
              "3  CESTO DE BASURA ALUMINIO N.D. 007/2005, ALTA 3...         NaN         NaN   \n",
              "4  AUTOMOVIL FORD ESCORT 1998, PLACAS: HZG1129, N...         NaN         NaN   \n",
              "\n",
              "            5           6           7  \n",
              "0  Unnamed: 5  Unnamed: 6  Unnamed: 7  \n",
              "1         NaN         NaN         NaN  \n",
              "2         NaN         NaN         NaN  \n",
              "3         NaN         NaN         NaN  \n",
              "4         NaN         NaN         NaN  "
            ],
            "text/html": [
              "\n",
              "  <div id=\"df-98526d9f-709e-49b9-8e18-c0f6543b4fe8\">\n",
              "    <div class=\"colab-df-container\">\n",
              "      <div>\n",
              "<style scoped>\n",
              "    .dataframe tbody tr th:only-of-type {\n",
              "        vertical-align: middle;\n",
              "    }\n",
              "\n",
              "    .dataframe tbody tr th {\n",
              "        vertical-align: top;\n",
              "    }\n",
              "\n",
              "    .dataframe thead th {\n",
              "        text-align: right;\n",
              "    }\n",
              "</style>\n",
              "<table border=\"1\" class=\"dataframe\">\n",
              "  <thead>\n",
              "    <tr style=\"text-align: right;\">\n",
              "      <th></th>\n",
              "      <th>0</th>\n",
              "      <th>1</th>\n",
              "      <th>2</th>\n",
              "      <th>3</th>\n",
              "      <th>4</th>\n",
              "      <th>5</th>\n",
              "      <th>6</th>\n",
              "      <th>7</th>\n",
              "    </tr>\n",
              "  </thead>\n",
              "  <tbody>\n",
              "    <tr>\n",
              "      <th>0</th>\n",
              "      <td>Mobiliario</td>\n",
              "      <td>Mobiliario.1</td>\n",
              "      <td>SILLON EJECUTIVO RESPALDO MEDIO COLOR NEGRO. N...</td>\n",
              "      <td>Unnamed: 3</td>\n",
              "      <td>Unnamed: 4</td>\n",
              "      <td>Unnamed: 5</td>\n",
              "      <td>Unnamed: 6</td>\n",
              "      <td>Unnamed: 7</td>\n",
              "    </tr>\n",
              "    <tr>\n",
              "      <th>1</th>\n",
              "      <td>Mobiliario</td>\n",
              "      <td>Mobiliario</td>\n",
              "      <td>PINTARRON 60X90 (ALTA 20 ENE 1999 MARCA ALFRA).</td>\n",
              "      <td>NaN</td>\n",
              "      <td>NaN</td>\n",
              "      <td>NaN</td>\n",
              "      <td>NaN</td>\n",
              "      <td>NaN</td>\n",
              "    </tr>\n",
              "    <tr>\n",
              "      <th>2</th>\n",
              "      <td>Equipo</td>\n",
              "      <td>Equipo</td>\n",
              "      <td>MONITOR DE COLOR HP DE 15\", N.D. 017/2002 ALTA...</td>\n",
              "      <td>NaN</td>\n",
              "      <td>NaN</td>\n",
              "      <td>NaN</td>\n",
              "      <td>NaN</td>\n",
              "      <td>NaN</td>\n",
              "    </tr>\n",
              "    <tr>\n",
              "      <th>3</th>\n",
              "      <td>Mobiliario</td>\n",
              "      <td>Mobiliario</td>\n",
              "      <td>CESTO DE BASURA ALUMINIO N.D. 007/2005, ALTA 3...</td>\n",
              "      <td>NaN</td>\n",
              "      <td>NaN</td>\n",
              "      <td>NaN</td>\n",
              "      <td>NaN</td>\n",
              "      <td>NaN</td>\n",
              "    </tr>\n",
              "    <tr>\n",
              "      <th>4</th>\n",
              "      <td>Transporte</td>\n",
              "      <td>Transporte</td>\n",
              "      <td>AUTOMOVIL FORD ESCORT 1998, PLACAS: HZG1129, N...</td>\n",
              "      <td>NaN</td>\n",
              "      <td>NaN</td>\n",
              "      <td>NaN</td>\n",
              "      <td>NaN</td>\n",
              "      <td>NaN</td>\n",
              "    </tr>\n",
              "  </tbody>\n",
              "</table>\n",
              "</div>\n",
              "      <button class=\"colab-df-convert\" onclick=\"convertToInteractive('df-98526d9f-709e-49b9-8e18-c0f6543b4fe8')\"\n",
              "              title=\"Convert this dataframe to an interactive table.\"\n",
              "              style=\"display:none;\">\n",
              "        \n",
              "  <svg xmlns=\"http://www.w3.org/2000/svg\" height=\"24px\"viewBox=\"0 0 24 24\"\n",
              "       width=\"24px\">\n",
              "    <path d=\"M0 0h24v24H0V0z\" fill=\"none\"/>\n",
              "    <path d=\"M18.56 5.44l.94 2.06.94-2.06 2.06-.94-2.06-.94-.94-2.06-.94 2.06-2.06.94zm-11 1L8.5 8.5l.94-2.06 2.06-.94-2.06-.94L8.5 2.5l-.94 2.06-2.06.94zm10 10l.94 2.06.94-2.06 2.06-.94-2.06-.94-.94-2.06-.94 2.06-2.06.94z\"/><path d=\"M17.41 7.96l-1.37-1.37c-.4-.4-.92-.59-1.43-.59-.52 0-1.04.2-1.43.59L10.3 9.45l-7.72 7.72c-.78.78-.78 2.05 0 2.83L4 21.41c.39.39.9.59 1.41.59.51 0 1.02-.2 1.41-.59l7.78-7.78 2.81-2.81c.8-.78.8-2.07 0-2.86zM5.41 20L4 18.59l7.72-7.72 1.47 1.35L5.41 20z\"/>\n",
              "  </svg>\n",
              "      </button>\n",
              "      \n",
              "  <style>\n",
              "    .colab-df-container {\n",
              "      display:flex;\n",
              "      flex-wrap:wrap;\n",
              "      gap: 12px;\n",
              "    }\n",
              "\n",
              "    .colab-df-convert {\n",
              "      background-color: #E8F0FE;\n",
              "      border: none;\n",
              "      border-radius: 50%;\n",
              "      cursor: pointer;\n",
              "      display: none;\n",
              "      fill: #1967D2;\n",
              "      height: 32px;\n",
              "      padding: 0 0 0 0;\n",
              "      width: 32px;\n",
              "    }\n",
              "\n",
              "    .colab-df-convert:hover {\n",
              "      background-color: #E2EBFA;\n",
              "      box-shadow: 0px 1px 2px rgba(60, 64, 67, 0.3), 0px 1px 3px 1px rgba(60, 64, 67, 0.15);\n",
              "      fill: #174EA6;\n",
              "    }\n",
              "\n",
              "    [theme=dark] .colab-df-convert {\n",
              "      background-color: #3B4455;\n",
              "      fill: #D2E3FC;\n",
              "    }\n",
              "\n",
              "    [theme=dark] .colab-df-convert:hover {\n",
              "      background-color: #434B5C;\n",
              "      box-shadow: 0px 1px 3px 1px rgba(0, 0, 0, 0.15);\n",
              "      filter: drop-shadow(0px 1px 2px rgba(0, 0, 0, 0.3));\n",
              "      fill: #FFFFFF;\n",
              "    }\n",
              "  </style>\n",
              "\n",
              "      <script>\n",
              "        const buttonEl =\n",
              "          document.querySelector('#df-98526d9f-709e-49b9-8e18-c0f6543b4fe8 button.colab-df-convert');\n",
              "        buttonEl.style.display =\n",
              "          google.colab.kernel.accessAllowed ? 'block' : 'none';\n",
              "\n",
              "        async function convertToInteractive(key) {\n",
              "          const element = document.querySelector('#df-98526d9f-709e-49b9-8e18-c0f6543b4fe8');\n",
              "          const dataTable =\n",
              "            await google.colab.kernel.invokeFunction('convertToInteractive',\n",
              "                                                     [key], {});\n",
              "          if (!dataTable) return;\n",
              "\n",
              "          const docLinkHtml = 'Like what you see? Visit the ' +\n",
              "            '<a target=\"_blank\" href=https://colab.research.google.com/notebooks/data_table.ipynb>data table notebook</a>'\n",
              "            + ' to learn more about interactive tables.';\n",
              "          element.innerHTML = '';\n",
              "          dataTable['output_type'] = 'display_data';\n",
              "          await google.colab.output.renderOutput(dataTable, element);\n",
              "          const docLink = document.createElement('div');\n",
              "          docLink.innerHTML = docLinkHtml;\n",
              "          element.appendChild(docLink);\n",
              "        }\n",
              "      </script>\n",
              "    </div>\n",
              "  </div>\n",
              "  "
            ]
          },
          "metadata": {},
          "execution_count": 7
        }
      ]
    },
    {
      "cell_type": "code",
      "execution_count": null,
      "outputs": [
        {
          "output_type": "stream",
          "name": "stdout",
          "text": [
            "         Tipo                                        Descripcion\n",
            "0  Mobiliario  SILLON EJECUTIVO RESPALDO MEDIO COLOR NEGRO. N...\n",
            "1  Mobiliario    PINTARRON 60X90 (ALTA 20 ENE 1999 MARCA ALFRA).\n",
            "2      Equipo  MONITOR DE COLOR HP DE 15\", N.D. 017/2002 ALTA...\n",
            "3  Mobiliario  CESTO DE BASURA ALUMINIO N.D. 007/2005, ALTA 3...\n",
            "4  Transporte  AUTOMOVIL FORD ESCORT 1998, PLACAS: HZG1129, N...\n"
          ]
        },
        {
          "output_type": "execute_result",
          "data": {
            "text/plain": [
              "pandas.core.frame.DataFrame"
            ]
          },
          "metadata": {},
          "execution_count": 8
        }
      ],
      "source": [
        "y =df[[0,2]]\n",
        "df_sb = pd.DataFrame(y)\n",
        "df_sb.columns = ['Tipo','Descripcion']\n",
        "print(df_sb.head())\n",
        "type(df_sb)"
      ],
      "metadata": {
        "pycharm": {
          "name": "#%%\n"
        },
        "colab": {
          "base_uri": "https://localhost:8080/"
        },
        "id": "F17phe2REcQ_",
        "outputId": "bb1ee4de-7427-4dd7-b95d-9d42b9110eeb"
      }
    },
    {
      "cell_type": "markdown",
      "source": [
        "# nltlk - Leyendo el inventario"
      ],
      "metadata": {
        "pycharm": {
          "name": "#%% md\n"
        },
        "id": "tXijljxuicj0"
      }
    },
    {
      "cell_type": "markdown",
      "source": [
        "* nltk.download('punkt')\n",
        "* nltk.download('stopwords')\n",
        "* nltk.download('otraslibrerias')"
      ],
      "metadata": {
        "id": "Aq_yxH4H4gb3"
      }
    },
    {
      "cell_type": "code",
      "execution_count": null,
      "outputs": [],
      "source": [
        "#Importamos las herramientas para procesar texto (se necesitan descargar)\n",
        "import nltk\n",
        "\n",
        "#nltk.download('punkt')\n",
        "#nltk.download('stopwords')\n",
        "\n",
        "\n",
        "#Despues de buen rato de pelear con la funcion, entendi que:\n",
        "#Toma NaN como valor flotante en la opeacion asi que\n",
        "df_sb = df_sb.dropna()"
      ],
      "metadata": {
        "pycharm": {
          "name": "#%%\n"
        },
        "id": "O414RCu_ickc"
      }
    },
    {
      "cell_type": "code",
      "execution_count": null,
      "outputs": [],
      "source": [
        "#definimos el stopwords en espaniol\n",
        "from nltk.corpus import stopwords\n",
        "from nltk.stem.snowball import SnowballStemmer\n",
        "\n",
        "# function to clean data\n",
        "def clean_data(df, col, clean_col):\n",
        "      \n",
        "    #df[str(clean_col)] = df[str(clean_col)].apply(lambda x: x.lower())\n",
        "\n",
        "    # Tokenizamos el texto --->tokens = \n",
        "    df[str(clean_col)] = df.apply(lambda row: nltk.word_tokenize(row[str(col)]), axis=1)\n",
        "        \n",
        "    #df[str(clean_col)] = df.apply(lambda row: row[(col)].lower(), axis=1)\n",
        "\n",
        "    # remove extra spaces in between\n",
        "    #df[str(clean_col)] = df[str(clean_col)].apply(lambda x: nltk.re.sub('+', ' ', x))\n",
        "    \n",
        "    # remove punctuation\n",
        "    #df[str(clean_col)] = df.apply(lambda x: nltk.re.sub('[^a-zA-Z]', ' ', x))\n",
        "    \n",
        "    #remove stopwords and get the stem\n",
        "    #df[\"stopworded\"] = df[str(clean_col)].apply(lambda x: ' '.join(SnowballStemmer('spanish').stem(text) for text in x if text not in stopwords.words('spanish') ))\n",
        "    return df"
      ],
      "metadata": {
        "pycharm": {
          "name": "#%%\n"
        },
        "id": "ZHgkPUdnickc"
      }
    },
    {
      "cell_type": "code",
      "execution_count": null,
      "outputs": [
        {
          "output_type": "stream",
          "name": "stdout",
          "text": [
            "['Tipo', 'Descripcion']\n"
          ]
        },
        {
          "output_type": "stream",
          "name": "stderr",
          "text": [
            "/usr/local/lib/python3.7/dist-packages/ipykernel_launcher.py:11: SettingWithCopyWarning: \n",
            "A value is trying to be set on a copy of a slice from a DataFrame.\n",
            "Try using .loc[row_indexer,col_indexer] = value instead\n",
            "\n",
            "See the caveats in the documentation: https://pandas.pydata.org/pandas-docs/stable/user_guide/indexing.html#returning-a-view-versus-a-copy\n",
            "  # This is added back by InteractiveShellApp.init_path()\n"
          ]
        }
      ],
      "source": [
        "print(df_sb.columns.tolist())\n",
        "res = clean_data(df_sb.head(70),'Descripcion','stopworded')"
      ],
      "metadata": {
        "pycharm": {
          "name": "#%%\n"
        },
        "outputId": "1df79e4a-b85a-47e1-c521-5a8cc5c25fd6",
        "colab": {
          "base_uri": "https://localhost:8080/"
        },
        "id": "Jp7A6aIYickd"
      }
    },
    {
      "cell_type": "code",
      "execution_count": null,
      "outputs": [
        {
          "output_type": "execute_result",
          "data": {
            "text/plain": [
              "         Tipo                                        Descripcion  \\\n",
              "0  Mobiliario  SILLON EJECUTIVO RESPALDO MEDIO COLOR NEGRO. N...   \n",
              "1  Mobiliario    PINTARRON 60X90 (ALTA 20 ENE 1999 MARCA ALFRA).   \n",
              "2      Equipo  MONITOR DE COLOR HP DE 15\", N.D. 017/2002 ALTA...   \n",
              "3  Mobiliario  CESTO DE BASURA ALUMINIO N.D. 007/2005, ALTA 3...   \n",
              "4  Transporte  AUTOMOVIL FORD ESCORT 1998, PLACAS: HZG1129, N...   \n",
              "\n",
              "                                          stopworded  \n",
              "0  [SILLON, EJECUTIVO, RESPALDO, MEDIO, COLOR, NE...  \n",
              "1  [PINTARRON, 60X90, (, ALTA, 20, ENE, 1999, MAR...  \n",
              "2  [MONITOR, DE, COLOR, HP, DE, 15, '', ,, N.D., ...  \n",
              "3  [CESTO, DE, BASURA, ALUMINIO, N.D., 007/2005, ...  \n",
              "4  [AUTOMOVIL, FORD, ESCORT, 1998, ,, PLACAS, :, ...  "
            ],
            "text/html": [
              "\n",
              "  <div id=\"df-1316d4e8-b986-4ce5-9f38-09b2190b3c45\">\n",
              "    <div class=\"colab-df-container\">\n",
              "      <div>\n",
              "<style scoped>\n",
              "    .dataframe tbody tr th:only-of-type {\n",
              "        vertical-align: middle;\n",
              "    }\n",
              "\n",
              "    .dataframe tbody tr th {\n",
              "        vertical-align: top;\n",
              "    }\n",
              "\n",
              "    .dataframe thead th {\n",
              "        text-align: right;\n",
              "    }\n",
              "</style>\n",
              "<table border=\"1\" class=\"dataframe\">\n",
              "  <thead>\n",
              "    <tr style=\"text-align: right;\">\n",
              "      <th></th>\n",
              "      <th>Tipo</th>\n",
              "      <th>Descripcion</th>\n",
              "      <th>stopworded</th>\n",
              "    </tr>\n",
              "  </thead>\n",
              "  <tbody>\n",
              "    <tr>\n",
              "      <th>0</th>\n",
              "      <td>Mobiliario</td>\n",
              "      <td>SILLON EJECUTIVO RESPALDO MEDIO COLOR NEGRO. N...</td>\n",
              "      <td>[SILLON, EJECUTIVO, RESPALDO, MEDIO, COLOR, NE...</td>\n",
              "    </tr>\n",
              "    <tr>\n",
              "      <th>1</th>\n",
              "      <td>Mobiliario</td>\n",
              "      <td>PINTARRON 60X90 (ALTA 20 ENE 1999 MARCA ALFRA).</td>\n",
              "      <td>[PINTARRON, 60X90, (, ALTA, 20, ENE, 1999, MAR...</td>\n",
              "    </tr>\n",
              "    <tr>\n",
              "      <th>2</th>\n",
              "      <td>Equipo</td>\n",
              "      <td>MONITOR DE COLOR HP DE 15\", N.D. 017/2002 ALTA...</td>\n",
              "      <td>[MONITOR, DE, COLOR, HP, DE, 15, '', ,, N.D., ...</td>\n",
              "    </tr>\n",
              "    <tr>\n",
              "      <th>3</th>\n",
              "      <td>Mobiliario</td>\n",
              "      <td>CESTO DE BASURA ALUMINIO N.D. 007/2005, ALTA 3...</td>\n",
              "      <td>[CESTO, DE, BASURA, ALUMINIO, N.D., 007/2005, ...</td>\n",
              "    </tr>\n",
              "    <tr>\n",
              "      <th>4</th>\n",
              "      <td>Transporte</td>\n",
              "      <td>AUTOMOVIL FORD ESCORT 1998, PLACAS: HZG1129, N...</td>\n",
              "      <td>[AUTOMOVIL, FORD, ESCORT, 1998, ,, PLACAS, :, ...</td>\n",
              "    </tr>\n",
              "  </tbody>\n",
              "</table>\n",
              "</div>\n",
              "      <button class=\"colab-df-convert\" onclick=\"convertToInteractive('df-1316d4e8-b986-4ce5-9f38-09b2190b3c45')\"\n",
              "              title=\"Convert this dataframe to an interactive table.\"\n",
              "              style=\"display:none;\">\n",
              "        \n",
              "  <svg xmlns=\"http://www.w3.org/2000/svg\" height=\"24px\"viewBox=\"0 0 24 24\"\n",
              "       width=\"24px\">\n",
              "    <path d=\"M0 0h24v24H0V0z\" fill=\"none\"/>\n",
              "    <path d=\"M18.56 5.44l.94 2.06.94-2.06 2.06-.94-2.06-.94-.94-2.06-.94 2.06-2.06.94zm-11 1L8.5 8.5l.94-2.06 2.06-.94-2.06-.94L8.5 2.5l-.94 2.06-2.06.94zm10 10l.94 2.06.94-2.06 2.06-.94-2.06-.94-.94-2.06-.94 2.06-2.06.94z\"/><path d=\"M17.41 7.96l-1.37-1.37c-.4-.4-.92-.59-1.43-.59-.52 0-1.04.2-1.43.59L10.3 9.45l-7.72 7.72c-.78.78-.78 2.05 0 2.83L4 21.41c.39.39.9.59 1.41.59.51 0 1.02-.2 1.41-.59l7.78-7.78 2.81-2.81c.8-.78.8-2.07 0-2.86zM5.41 20L4 18.59l7.72-7.72 1.47 1.35L5.41 20z\"/>\n",
              "  </svg>\n",
              "      </button>\n",
              "      \n",
              "  <style>\n",
              "    .colab-df-container {\n",
              "      display:flex;\n",
              "      flex-wrap:wrap;\n",
              "      gap: 12px;\n",
              "    }\n",
              "\n",
              "    .colab-df-convert {\n",
              "      background-color: #E8F0FE;\n",
              "      border: none;\n",
              "      border-radius: 50%;\n",
              "      cursor: pointer;\n",
              "      display: none;\n",
              "      fill: #1967D2;\n",
              "      height: 32px;\n",
              "      padding: 0 0 0 0;\n",
              "      width: 32px;\n",
              "    }\n",
              "\n",
              "    .colab-df-convert:hover {\n",
              "      background-color: #E2EBFA;\n",
              "      box-shadow: 0px 1px 2px rgba(60, 64, 67, 0.3), 0px 1px 3px 1px rgba(60, 64, 67, 0.15);\n",
              "      fill: #174EA6;\n",
              "    }\n",
              "\n",
              "    [theme=dark] .colab-df-convert {\n",
              "      background-color: #3B4455;\n",
              "      fill: #D2E3FC;\n",
              "    }\n",
              "\n",
              "    [theme=dark] .colab-df-convert:hover {\n",
              "      background-color: #434B5C;\n",
              "      box-shadow: 0px 1px 3px 1px rgba(0, 0, 0, 0.15);\n",
              "      filter: drop-shadow(0px 1px 2px rgba(0, 0, 0, 0.3));\n",
              "      fill: #FFFFFF;\n",
              "    }\n",
              "  </style>\n",
              "\n",
              "      <script>\n",
              "        const buttonEl =\n",
              "          document.querySelector('#df-1316d4e8-b986-4ce5-9f38-09b2190b3c45 button.colab-df-convert');\n",
              "        buttonEl.style.display =\n",
              "          google.colab.kernel.accessAllowed ? 'block' : 'none';\n",
              "\n",
              "        async function convertToInteractive(key) {\n",
              "          const element = document.querySelector('#df-1316d4e8-b986-4ce5-9f38-09b2190b3c45');\n",
              "          const dataTable =\n",
              "            await google.colab.kernel.invokeFunction('convertToInteractive',\n",
              "                                                     [key], {});\n",
              "          if (!dataTable) return;\n",
              "\n",
              "          const docLinkHtml = 'Like what you see? Visit the ' +\n",
              "            '<a target=\"_blank\" href=https://colab.research.google.com/notebooks/data_table.ipynb>data table notebook</a>'\n",
              "            + ' to learn more about interactive tables.';\n",
              "          element.innerHTML = '';\n",
              "          dataTable['output_type'] = 'display_data';\n",
              "          await google.colab.output.renderOutput(dataTable, element);\n",
              "          const docLink = document.createElement('div');\n",
              "          docLink.innerHTML = docLinkHtml;\n",
              "          element.appendChild(docLink);\n",
              "        }\n",
              "      </script>\n",
              "    </div>\n",
              "  </div>\n",
              "  "
            ]
          },
          "metadata": {},
          "execution_count": 251
        }
      ],
      "source": [
        "res.head(5)"
      ],
      "metadata": {
        "pycharm": {
          "name": "#%%\n"
        },
        "colab": {
          "base_uri": "https://localhost:8080/",
          "height": 206
        },
        "id": "VkCxwvjYicke",
        "outputId": "d9847c8c-2859-4351-cbbb-5c89a1d0a5c5"
      }
    },
    {
      "cell_type": "markdown",
      "source": [
        "--------------------------\n",
        "Class_1\n",
        "* Equipo        41\n",
        "* Mobiliario    28\n",
        "* Transporte     1\n",
        "* Name: tokenized_items, dtype: int64\n",
        "--------------------------\n",
        "--------------------------\n",
        "Class_2\n",
        "* Equipo          41\n",
        "* Mobiliario      27\n",
        "* Mobiliario.1     1\n",
        "* Transporte       1\n",
        "* Name: tokenized_items, dtype: int64\n"
      ],
      "metadata": {
        "id": "7lnaRScmCMFk"
      }
    },
    {
      "cell_type": "code",
      "source": [
        "print('--------------------------')\n",
        "res.groupby(by='Tipo')['stopworded'].count()"
      ],
      "metadata": {
        "colab": {
          "base_uri": "https://localhost:8080/"
        },
        "id": "UPEDhKQtBD3i",
        "outputId": "f10609c0-18f3-4e4b-b2d4-c7bdc6d106b4"
      },
      "execution_count": null,
      "outputs": [
        {
          "output_type": "stream",
          "name": "stdout",
          "text": [
            "--------------------------\n"
          ]
        },
        {
          "output_type": "execute_result",
          "data": {
            "text/plain": [
              "Tipo\n",
              "Equipo        41\n",
              "Mobiliario    28\n",
              "Transporte     1\n",
              "Name: stopworded, dtype: int64"
            ]
          },
          "metadata": {},
          "execution_count": 243
        }
      ]
    },
    {
      "cell_type": "markdown",
      "source": [
        "En este punto, tratare de arreglar las stopwords, donde creo que esta el problema , pues lee las 'o' finales de una palabra como una non-noun, una marca del lenguaje\n",
        "\n",
        "\n",
        "print(stopwords.words('spanish'))"
      ],
      "metadata": {
        "id": "brTfAQsljesc"
      }
    },
    {
      "cell_type": "code",
      "source": [
        "inventario = res.explode(column='stopworded')"
      ],
      "metadata": {
        "id": "5gf24-zJnJgI"
      },
      "execution_count": null,
      "outputs": []
    },
    {
      "cell_type": "code",
      "source": [
        "print('Palabras totales por categoria')\n",
        "print('--------------------------')\n",
        "print(inventario.groupby(by='Tipo')['Descripcion'].count())\n",
        "print('--------------------------')\n",
        "print('--------------------------')\n",
        "print('Palabras distintas en las categorias')\n",
        "print(inventario.groupby(by='Tipo')['stopworded'].nunique())\n",
        "print('--------------------------')"
      ],
      "metadata": {
        "colab": {
          "base_uri": "https://localhost:8080/"
        },
        "id": "62jFClxz4QeM",
        "outputId": "308db213-fc2f-426f-c52b-59cd4a6c0bf7"
      },
      "execution_count": null,
      "outputs": [
        {
          "output_type": "stream",
          "name": "stdout",
          "text": [
            "Palabras totales por categoria\n",
            "--------------------------\n",
            "Tipo\n",
            "Equipo        204\n",
            "Mobiliario    166\n",
            "Transporte      7\n",
            "Name: Descripcion, dtype: int64\n",
            "--------------------------\n",
            "--------------------------\n",
            "Palabras distintas en las categorias\n",
            "Tipo\n",
            "Equipo        169\n",
            "Mobiliario    140\n",
            "Transporte      7\n",
            "Name: stopworded, dtype: int64\n",
            "--------------------------\n"
          ]
        }
      ]
    },
    {
      "cell_type": "code",
      "source": [
        "# Obtención de listado de stopwords del espanol\n",
        "# ==============================================================================\n",
        "stop_words = list(stopwords.words('spanish'))\n",
        "stop_words = list(map(lambda x: x.upper(),stop_words))\n",
        "# Se añade la stoprword: amp, ax, ex\n",
        "stop_words.extend((\"amp\", \"xa\", \"xe\",\")\",\"(\",\"'\",\",\",\"\",\".\",\":\",\"\",\"7.1\",\"6\",\"15\",\"MARCA\",\"1\",\"ALTA\",\"N.D\"))\n",
        "stop_words.extend((\"COMPLETA\",\"256MB\",\"S/N\",\"AZUL\",\"1998\",\"N.D.\",\"COLOR\",\"X\",\"NEGRO\",\"CM\",\"MODELO\",\"S/M\",\"LCD\"))\n",
        "stop_words.extend((\"2002\",\"GRIS\",\"3FABP1136WR109452\",\"SERIE\",\"AGOSTO\",\"''\",\"ALTURA\",\"CAOBA\",\"GHZ\"))\n",
        "\n",
        "print(stop_words[:10])\n",
        "inventario = inventario[~(inventario[\"stopworded\"].isin(stop_words))]"
      ],
      "metadata": {
        "colab": {
          "base_uri": "https://localhost:8080/"
        },
        "id": "RhnifmkUDLS0",
        "outputId": "f9d4f446-1c81-45c8-d190-c9592879f94f"
      },
      "execution_count": null,
      "outputs": [
        {
          "output_type": "stream",
          "name": "stdout",
          "text": [
            "['DE', 'LA', 'QUE', 'EL', 'EN', 'Y', 'A', 'LOS', 'DEL', 'SE']\n"
          ]
        }
      ]
    },
    {
      "cell_type": "code",
      "source": [
        "inventario.groupby(['Tipo','stopworded'])['stopworded'] \\\n",
        " .count() \\\n",
        " .reset_index(name='count') \\\n",
        " .groupby('Tipo') \\\n",
        " .apply(lambda x: x.sort_values('count', ascending=True).tail(13)) "
      ],
      "metadata": {
        "colab": {
          "base_uri": "https://localhost:8080/",
          "height": 1000
        },
        "id": "cDK-ui3kPXK7",
        "outputId": "1e7d187e-51b8-48fe-fb86-86dab9d3400f"
      },
      "execution_count": null,
      "outputs": [
        {
          "output_type": "execute_result",
          "data": {
            "text/plain": [
              "                      Tipo   stopworded  count\n",
              "Tipo                                          \n",
              "Equipo     150      Equipo     SOFTWARE      2\n",
              "           138      Equipo        RATÓN      2\n",
              "           56       Equipo       COGNOS      2\n",
              "           61       Equipo          CPU      2\n",
              "           146      Equipo       SCROLL      2\n",
              "           60       Equipo     CORDLESS      2\n",
              "           155      Equipo     TELEFONO      3\n",
              "           91       Equipo           HP      3\n",
              "           125      Equipo      PENTIUM      3\n",
              "           165      Equipo        VIDEO      3\n",
              "           115      Equipo      MONITOR      4\n",
              "           51       Equipo          CDS      4\n",
              "           59       Equipo  COMPUTADORA      4\n",
              "Mobiliario 228  Mobiliario     CUBIERTA      2\n",
              "           225  Mobiliario      CODERAS      2\n",
              "           218  Mobiliario      CAJONES      2\n",
              "           260  Mobiliario      MAMPARA      2\n",
              "           259  Mobiliario       MADERA      2\n",
              "           262  Mobiliario      MEDIDAS      2\n",
              "           264  Mobiliario         MESA      3\n",
              "           295  Mobiliario       SILLON      3\n",
              "           234  Mobiliario   ESCRITORIO      3\n",
              "           232  Mobiliario    EJECUTIVO      3\n",
              "           293  Mobiliario        SILLA      4\n",
              "           216  Mobiliario        CAJON      4\n",
              "           300  Mobiliario         TELA      6\n",
              "Transporte 309  Transporte    AUTOMOVIL      1\n",
              "           310  Transporte        ECONÓ      1\n",
              "           311  Transporte       ESCORT      1\n",
              "           312  Transporte         FORD      1\n",
              "           313  Transporte      HZG1129      1\n",
              "           314  Transporte        MOTOR      1\n",
              "           315  Transporte       PLACAS      1"
            ],
            "text/html": [
              "\n",
              "  <div id=\"df-6fcf26aa-0020-42a7-8617-4f49bd9c615d\">\n",
              "    <div class=\"colab-df-container\">\n",
              "      <div>\n",
              "<style scoped>\n",
              "    .dataframe tbody tr th:only-of-type {\n",
              "        vertical-align: middle;\n",
              "    }\n",
              "\n",
              "    .dataframe tbody tr th {\n",
              "        vertical-align: top;\n",
              "    }\n",
              "\n",
              "    .dataframe thead th {\n",
              "        text-align: right;\n",
              "    }\n",
              "</style>\n",
              "<table border=\"1\" class=\"dataframe\">\n",
              "  <thead>\n",
              "    <tr style=\"text-align: right;\">\n",
              "      <th></th>\n",
              "      <th></th>\n",
              "      <th>Tipo</th>\n",
              "      <th>stopworded</th>\n",
              "      <th>count</th>\n",
              "    </tr>\n",
              "    <tr>\n",
              "      <th>Tipo</th>\n",
              "      <th></th>\n",
              "      <th></th>\n",
              "      <th></th>\n",
              "      <th></th>\n",
              "    </tr>\n",
              "  </thead>\n",
              "  <tbody>\n",
              "    <tr>\n",
              "      <th rowspan=\"13\" valign=\"top\">Equipo</th>\n",
              "      <th>150</th>\n",
              "      <td>Equipo</td>\n",
              "      <td>SOFTWARE</td>\n",
              "      <td>2</td>\n",
              "    </tr>\n",
              "    <tr>\n",
              "      <th>138</th>\n",
              "      <td>Equipo</td>\n",
              "      <td>RATÓN</td>\n",
              "      <td>2</td>\n",
              "    </tr>\n",
              "    <tr>\n",
              "      <th>56</th>\n",
              "      <td>Equipo</td>\n",
              "      <td>COGNOS</td>\n",
              "      <td>2</td>\n",
              "    </tr>\n",
              "    <tr>\n",
              "      <th>61</th>\n",
              "      <td>Equipo</td>\n",
              "      <td>CPU</td>\n",
              "      <td>2</td>\n",
              "    </tr>\n",
              "    <tr>\n",
              "      <th>146</th>\n",
              "      <td>Equipo</td>\n",
              "      <td>SCROLL</td>\n",
              "      <td>2</td>\n",
              "    </tr>\n",
              "    <tr>\n",
              "      <th>60</th>\n",
              "      <td>Equipo</td>\n",
              "      <td>CORDLESS</td>\n",
              "      <td>2</td>\n",
              "    </tr>\n",
              "    <tr>\n",
              "      <th>155</th>\n",
              "      <td>Equipo</td>\n",
              "      <td>TELEFONO</td>\n",
              "      <td>3</td>\n",
              "    </tr>\n",
              "    <tr>\n",
              "      <th>91</th>\n",
              "      <td>Equipo</td>\n",
              "      <td>HP</td>\n",
              "      <td>3</td>\n",
              "    </tr>\n",
              "    <tr>\n",
              "      <th>125</th>\n",
              "      <td>Equipo</td>\n",
              "      <td>PENTIUM</td>\n",
              "      <td>3</td>\n",
              "    </tr>\n",
              "    <tr>\n",
              "      <th>165</th>\n",
              "      <td>Equipo</td>\n",
              "      <td>VIDEO</td>\n",
              "      <td>3</td>\n",
              "    </tr>\n",
              "    <tr>\n",
              "      <th>115</th>\n",
              "      <td>Equipo</td>\n",
              "      <td>MONITOR</td>\n",
              "      <td>4</td>\n",
              "    </tr>\n",
              "    <tr>\n",
              "      <th>51</th>\n",
              "      <td>Equipo</td>\n",
              "      <td>CDS</td>\n",
              "      <td>4</td>\n",
              "    </tr>\n",
              "    <tr>\n",
              "      <th>59</th>\n",
              "      <td>Equipo</td>\n",
              "      <td>COMPUTADORA</td>\n",
              "      <td>4</td>\n",
              "    </tr>\n",
              "    <tr>\n",
              "      <th rowspan=\"13\" valign=\"top\">Mobiliario</th>\n",
              "      <th>228</th>\n",
              "      <td>Mobiliario</td>\n",
              "      <td>CUBIERTA</td>\n",
              "      <td>2</td>\n",
              "    </tr>\n",
              "    <tr>\n",
              "      <th>225</th>\n",
              "      <td>Mobiliario</td>\n",
              "      <td>CODERAS</td>\n",
              "      <td>2</td>\n",
              "    </tr>\n",
              "    <tr>\n",
              "      <th>218</th>\n",
              "      <td>Mobiliario</td>\n",
              "      <td>CAJONES</td>\n",
              "      <td>2</td>\n",
              "    </tr>\n",
              "    <tr>\n",
              "      <th>260</th>\n",
              "      <td>Mobiliario</td>\n",
              "      <td>MAMPARA</td>\n",
              "      <td>2</td>\n",
              "    </tr>\n",
              "    <tr>\n",
              "      <th>259</th>\n",
              "      <td>Mobiliario</td>\n",
              "      <td>MADERA</td>\n",
              "      <td>2</td>\n",
              "    </tr>\n",
              "    <tr>\n",
              "      <th>262</th>\n",
              "      <td>Mobiliario</td>\n",
              "      <td>MEDIDAS</td>\n",
              "      <td>2</td>\n",
              "    </tr>\n",
              "    <tr>\n",
              "      <th>264</th>\n",
              "      <td>Mobiliario</td>\n",
              "      <td>MESA</td>\n",
              "      <td>3</td>\n",
              "    </tr>\n",
              "    <tr>\n",
              "      <th>295</th>\n",
              "      <td>Mobiliario</td>\n",
              "      <td>SILLON</td>\n",
              "      <td>3</td>\n",
              "    </tr>\n",
              "    <tr>\n",
              "      <th>234</th>\n",
              "      <td>Mobiliario</td>\n",
              "      <td>ESCRITORIO</td>\n",
              "      <td>3</td>\n",
              "    </tr>\n",
              "    <tr>\n",
              "      <th>232</th>\n",
              "      <td>Mobiliario</td>\n",
              "      <td>EJECUTIVO</td>\n",
              "      <td>3</td>\n",
              "    </tr>\n",
              "    <tr>\n",
              "      <th>293</th>\n",
              "      <td>Mobiliario</td>\n",
              "      <td>SILLA</td>\n",
              "      <td>4</td>\n",
              "    </tr>\n",
              "    <tr>\n",
              "      <th>216</th>\n",
              "      <td>Mobiliario</td>\n",
              "      <td>CAJON</td>\n",
              "      <td>4</td>\n",
              "    </tr>\n",
              "    <tr>\n",
              "      <th>300</th>\n",
              "      <td>Mobiliario</td>\n",
              "      <td>TELA</td>\n",
              "      <td>6</td>\n",
              "    </tr>\n",
              "    <tr>\n",
              "      <th rowspan=\"7\" valign=\"top\">Transporte</th>\n",
              "      <th>309</th>\n",
              "      <td>Transporte</td>\n",
              "      <td>AUTOMOVIL</td>\n",
              "      <td>1</td>\n",
              "    </tr>\n",
              "    <tr>\n",
              "      <th>310</th>\n",
              "      <td>Transporte</td>\n",
              "      <td>ECONÓ</td>\n",
              "      <td>1</td>\n",
              "    </tr>\n",
              "    <tr>\n",
              "      <th>311</th>\n",
              "      <td>Transporte</td>\n",
              "      <td>ESCORT</td>\n",
              "      <td>1</td>\n",
              "    </tr>\n",
              "    <tr>\n",
              "      <th>312</th>\n",
              "      <td>Transporte</td>\n",
              "      <td>FORD</td>\n",
              "      <td>1</td>\n",
              "    </tr>\n",
              "    <tr>\n",
              "      <th>313</th>\n",
              "      <td>Transporte</td>\n",
              "      <td>HZG1129</td>\n",
              "      <td>1</td>\n",
              "    </tr>\n",
              "    <tr>\n",
              "      <th>314</th>\n",
              "      <td>Transporte</td>\n",
              "      <td>MOTOR</td>\n",
              "      <td>1</td>\n",
              "    </tr>\n",
              "    <tr>\n",
              "      <th>315</th>\n",
              "      <td>Transporte</td>\n",
              "      <td>PLACAS</td>\n",
              "      <td>1</td>\n",
              "    </tr>\n",
              "  </tbody>\n",
              "</table>\n",
              "</div>\n",
              "      <button class=\"colab-df-convert\" onclick=\"convertToInteractive('df-6fcf26aa-0020-42a7-8617-4f49bd9c615d')\"\n",
              "              title=\"Convert this dataframe to an interactive table.\"\n",
              "              style=\"display:none;\">\n",
              "        \n",
              "  <svg xmlns=\"http://www.w3.org/2000/svg\" height=\"24px\"viewBox=\"0 0 24 24\"\n",
              "       width=\"24px\">\n",
              "    <path d=\"M0 0h24v24H0V0z\" fill=\"none\"/>\n",
              "    <path d=\"M18.56 5.44l.94 2.06.94-2.06 2.06-.94-2.06-.94-.94-2.06-.94 2.06-2.06.94zm-11 1L8.5 8.5l.94-2.06 2.06-.94-2.06-.94L8.5 2.5l-.94 2.06-2.06.94zm10 10l.94 2.06.94-2.06 2.06-.94-2.06-.94-.94-2.06-.94 2.06-2.06.94z\"/><path d=\"M17.41 7.96l-1.37-1.37c-.4-.4-.92-.59-1.43-.59-.52 0-1.04.2-1.43.59L10.3 9.45l-7.72 7.72c-.78.78-.78 2.05 0 2.83L4 21.41c.39.39.9.59 1.41.59.51 0 1.02-.2 1.41-.59l7.78-7.78 2.81-2.81c.8-.78.8-2.07 0-2.86zM5.41 20L4 18.59l7.72-7.72 1.47 1.35L5.41 20z\"/>\n",
              "  </svg>\n",
              "      </button>\n",
              "      \n",
              "  <style>\n",
              "    .colab-df-container {\n",
              "      display:flex;\n",
              "      flex-wrap:wrap;\n",
              "      gap: 12px;\n",
              "    }\n",
              "\n",
              "    .colab-df-convert {\n",
              "      background-color: #E8F0FE;\n",
              "      border: none;\n",
              "      border-radius: 50%;\n",
              "      cursor: pointer;\n",
              "      display: none;\n",
              "      fill: #1967D2;\n",
              "      height: 32px;\n",
              "      padding: 0 0 0 0;\n",
              "      width: 32px;\n",
              "    }\n",
              "\n",
              "    .colab-df-convert:hover {\n",
              "      background-color: #E2EBFA;\n",
              "      box-shadow: 0px 1px 2px rgba(60, 64, 67, 0.3), 0px 1px 3px 1px rgba(60, 64, 67, 0.15);\n",
              "      fill: #174EA6;\n",
              "    }\n",
              "\n",
              "    [theme=dark] .colab-df-convert {\n",
              "      background-color: #3B4455;\n",
              "      fill: #D2E3FC;\n",
              "    }\n",
              "\n",
              "    [theme=dark] .colab-df-convert:hover {\n",
              "      background-color: #434B5C;\n",
              "      box-shadow: 0px 1px 3px 1px rgba(0, 0, 0, 0.15);\n",
              "      filter: drop-shadow(0px 1px 2px rgba(0, 0, 0, 0.3));\n",
              "      fill: #FFFFFF;\n",
              "    }\n",
              "  </style>\n",
              "\n",
              "      <script>\n",
              "        const buttonEl =\n",
              "          document.querySelector('#df-6fcf26aa-0020-42a7-8617-4f49bd9c615d button.colab-df-convert');\n",
              "        buttonEl.style.display =\n",
              "          google.colab.kernel.accessAllowed ? 'block' : 'none';\n",
              "\n",
              "        async function convertToInteractive(key) {\n",
              "          const element = document.querySelector('#df-6fcf26aa-0020-42a7-8617-4f49bd9c615d');\n",
              "          const dataTable =\n",
              "            await google.colab.kernel.invokeFunction('convertToInteractive',\n",
              "                                                     [key], {});\n",
              "          if (!dataTable) return;\n",
              "\n",
              "          const docLinkHtml = 'Like what you see? Visit the ' +\n",
              "            '<a target=\"_blank\" href=https://colab.research.google.com/notebooks/data_table.ipynb>data table notebook</a>'\n",
              "            + ' to learn more about interactive tables.';\n",
              "          element.innerHTML = '';\n",
              "          dataTable['output_type'] = 'display_data';\n",
              "          await google.colab.output.renderOutput(dataTable, element);\n",
              "          const docLink = document.createElement('div');\n",
              "          docLink.innerHTML = docLinkHtml;\n",
              "          element.appendChild(docLink);\n",
              "        }\n",
              "      </script>\n",
              "    </div>\n",
              "  </div>\n",
              "  "
            ]
          },
          "metadata": {},
          "execution_count": 273
        }
      ]
    },
    {
      "cell_type": "code",
      "source": [
        "fig, axs = plt.subplots(nrows=4, ncols=1,figsize=(10, 22))\n",
        "for i, Tipo in enumerate(inventario.Tipo.unique()):\n",
        "    df_temp = inventario[inventario.Tipo == Tipo]\n",
        "    counts  = df_temp['stopworded'].value_counts(ascending=False).head(20)\n",
        "    counts.plot(kind='barh', color='firebrick', ax=axs[i])\n",
        "    axs[i].invert_yaxis()\n",
        "    axs[i].set_title(Tipo)\n",
        "fig.tight_layout()"
      ],
      "metadata": {
        "colab": {
          "base_uri": "https://localhost:8080/",
          "height": 1000
        },
        "id": "CFxNvAOsDfrb",
        "outputId": "9fb90455-cc13-417c-85b5-a57cf114eb31"
      },
      "execution_count": null,
      "outputs": [
        {
          "output_type": "display_data",
          "data": {
            "text/plain": [
              "<Figure size 720x1584 with 4 Axes>"
            ],
            "image/png": "[encoded data removed]"
          },
          "metadata": {
            "needs_background": "light"
          }
        }
      ]
    },
    {
      "cell_type": "code",
      "source": [
        "file_name = \"/content/drive/MyDrive/Clasificacion Inteligente de datos - I5912/src/A9_final_data.csv\"\n",
        "inventario.to_csv(file_name, sep='\\t', encoding='utf-8')"
      ],
      "metadata": {
        "id": "INz_ILONdn9_"
      },
      "execution_count": null,
      "outputs": []
    },
    {
      "cell_type": "markdown",
      "source": [
        "# Conclusion\n",
        "> # Existen 3 categorias obtenidas de las clases:\n",
        "estas categorias podrian quedas solo en transporte ye mobiliario\n",
        "> 1. Transporte\n",
        "  >> * Automobil Ford Escort -- UNO\n",
        "> 2. Equipo\n",
        "  >> * Monitor --\n",
        "  >> * Cds --\n",
        "  >> * Computadoras\n",
        "  >> * Monitores\n",
        "  >> * Telefono\n",
        "  >> * Mouse\n",
        "  >> * Teclado\n",
        "  >> * Portatil\n",
        "  >> * USB\n",
        "  \n",
        "> 3. Mobiliario\n",
        "  >> * Cajon\n",
        "  >> * Silla \n",
        "  >> * Sillon \n",
        "  >> * Escritorio\n",
        "  >> * mesa\n",
        "  >> * archivero\n",
        "  >> * mamparas"
      ],
      "metadata": {
        "id": "PMJNHLwxZ37H"
      }
    }
  ],
  "metadata": {
    "colab": {
      "collapsed_sections": [
        "lrWcSuNShr72"
      ],
      "provenance": [],
      "include_colab_link": true
    },
    "kernelspec": {
      "display_name": "Python 3",
      "name": "python3"
    }
  },
  "nbformat": 4,
  "nbformat_minor": 0
}